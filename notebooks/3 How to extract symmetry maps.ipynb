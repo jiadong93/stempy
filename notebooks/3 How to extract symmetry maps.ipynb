{
 "cells": [
  {
   "metadata": {},
   "cell_type": "markdown",
   "source": "# How to extract symmetry maps from atomic resolution images",
   "id": "d3500980a70fbbf6"
  },
  {
   "metadata": {
    "ExecuteTime": {
     "end_time": "2024-05-20T03:07:26.518644Z",
     "start_time": "2024-05-20T03:07:24.510458Z"
    }
   },
   "cell_type": "code",
   "source": [
    "%matplotlib qt\n",
    "import numpy as np\n",
    "import matplotlib.pyplot as plt\n",
    "\n",
    "from mtflearn import ZPs, load_image\n",
    "from stemplot import imshow"
   ],
   "id": "a7e6a89e8beda717",
   "outputs": [],
   "execution_count": 10
  },
  {
   "metadata": {
    "ExecuteTime": {
     "end_time": "2024-05-20T03:07:27.903848Z",
     "start_time": "2024-05-20T03:07:27.895848Z"
    }
   },
   "cell_type": "code",
   "source": "",
   "id": "f425368b13bfb9d",
   "outputs": [],
   "execution_count": 10
  },
  {
   "metadata": {},
   "cell_type": "markdown",
   "source": "## load an image",
   "id": "fd32ef086403d1d0"
  },
  {
   "metadata": {
    "ExecuteTime": {
     "end_time": "2024-05-20T03:06:54.071746Z",
     "start_time": "2024-05-20T03:06:54.029728Z"
    }
   },
   "cell_type": "code",
   "source": [
    "filename = 'data\\\\monolayer_MoSe2_80K.npy'\n",
    "img = np.load(filename)[0:512, 0:512]"
   ],
   "id": "fe1ce0a08b2ef4bf",
   "outputs": [],
   "execution_count": 7
  },
  {
   "metadata": {
    "ExecuteTime": {
     "end_time": "2024-05-20T03:07:30.698595Z",
     "start_time": "2024-05-20T03:07:30.063196Z"
    }
   },
   "cell_type": "code",
   "source": "imshow(img)",
   "id": "27be3af3acab21b7",
   "outputs": [
    {
     "data": {
      "text/plain": [
       "<matplotlib.image.AxesImage at 0x14d51e2bee0>"
      ]
     },
     "execution_count": 11,
     "metadata": {},
     "output_type": "execute_result"
    }
   ],
   "execution_count": 11
  },
  {
   "metadata": {
    "ExecuteTime": {
     "end_time": "2024-05-20T03:09:28.529530Z",
     "start_time": "2024-05-20T03:09:27.047497Z"
    }
   },
   "cell_type": "code",
   "source": [
    "zps = ZPs(n_max=10, size=54)\n",
    "moments = zps.fit_transform(img)\n"
   ],
   "id": "82d62306f686b64b",
   "outputs": [],
   "execution_count": 12
  },
  {
   "metadata": {
    "ExecuteTime": {
     "end_time": "2024-05-20T03:09:38.322267Z",
     "start_time": "2024-05-20T03:09:38.303266Z"
    }
   },
   "cell_type": "code",
   "source": "",
   "id": "ff43c552ed85855f",
   "outputs": [],
   "execution_count": 13
  },
  {
   "metadata": {},
   "cell_type": "code",
   "outputs": [],
   "execution_count": null,
   "source": "",
   "id": "42d9c53830fa7a62"
  }
 ],
 "metadata": {
  "kernelspec": {
   "display_name": "Python 3",
   "language": "python",
   "name": "python3"
  },
  "language_info": {
   "codemirror_mode": {
    "name": "ipython",
    "version": 2
   },
   "file_extension": ".py",
   "mimetype": "text/x-python",
   "name": "python",
   "nbconvert_exporter": "python",
   "pygments_lexer": "ipython2",
   "version": "2.7.6"
  }
 },
 "nbformat": 4,
 "nbformat_minor": 5
}
