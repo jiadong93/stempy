{
 "cells": [
  {
   "metadata": {},
   "cell_type": "markdown",
   "source": "# How to extract symmetry maps from atomic resolution images",
   "id": "d3500980a70fbbf6"
  },
  {
   "metadata": {
    "ExecuteTime": {
     "end_time": "2024-05-17T11:28:47.473393Z",
     "start_time": "2024-05-17T11:28:37.186753Z"
    }
   },
   "cell_type": "code",
   "source": [
    "%matplotlib qt\n",
    "import numpy as np\n",
    "import matplotlib.pyplot as plt\n",
    "\n",
    "from mtflearn import ZPs"
   ],
   "id": "a7e6a89e8beda717",
   "outputs": [],
   "execution_count": 1
  },
  {
   "metadata": {},
   "cell_type": "code",
   "outputs": [],
   "execution_count": null,
   "source": "",
   "id": "e62a6b959de6e6af"
  }
 ],
 "metadata": {
  "kernelspec": {
   "display_name": "Python 3",
   "language": "python",
   "name": "python3"
  },
  "language_info": {
   "codemirror_mode": {
    "name": "ipython",
    "version": 2
   },
   "file_extension": ".py",
   "mimetype": "text/x-python",
   "name": "python",
   "nbconvert_exporter": "python",
   "pygments_lexer": "ipython2",
   "version": "2.7.6"
  }
 },
 "nbformat": 4,
 "nbformat_minor": 5
}
