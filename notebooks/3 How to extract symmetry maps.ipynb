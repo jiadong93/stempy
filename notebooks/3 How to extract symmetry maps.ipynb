{
 "cells": [
  {
   "metadata": {},
   "cell_type": "markdown",
   "source": "# How to extract symmetry maps from atomic resolution images",
   "id": "d3500980a70fbbf6"
  },
  {
   "metadata": {
    "ExecuteTime": {
     "end_time": "2024-05-20T10:19:42.162519Z",
     "start_time": "2024-05-20T10:19:39.067889Z"
    }
   },
   "cell_type": "code",
   "source": [
    "%matplotlib qt\n",
    "import numpy as np\n",
    "import matplotlib.pyplot as plt\n",
    "\n",
    "from mtflearn import ZPs"
   ],
   "id": "a7e6a89e8beda717",
   "outputs": [],
   "execution_count": 1
  },
  {
   "metadata": {
    "ExecuteTime": {
     "end_time": "2024-05-20T10:19:42.193520Z",
     "start_time": "2024-05-20T10:19:42.173500Z"
    }
   },
   "cell_type": "code",
   "source": "",
   "id": "f425368b13bfb9d",
   "outputs": [],
   "execution_count": 1
  },
  {
   "metadata": {},
   "cell_type": "markdown",
   "source": "## load an image",
   "id": "fd32ef086403d1d0"
  },
  {
   "metadata": {
    "ExecuteTime": {
     "end_time": "2024-05-20T10:19:42.239506Z",
     "start_time": "2024-05-20T10:19:42.202499Z"
    }
   },
   "cell_type": "code",
   "source": [
    "filename = 'data\\\\monolayer_MoSe2_80K.npy'\n",
    "img = np.load(filename)[0:512, 0:512]"
   ],
   "id": "fe1ce0a08b2ef4bf",
   "outputs": [],
   "execution_count": 2
  },
  {
   "metadata": {
    "ExecuteTime": {
     "end_time": "2024-05-20T10:20:17.803871Z",
     "start_time": "2024-05-20T10:20:16.153901Z"
    }
   },
   "cell_type": "code",
   "source": [
    "zps = ZPs(n_max=10, size=72)\n",
    "m = zps.fit_transform(img)"
   ],
   "id": "27be3af3acab21b7",
   "outputs": [],
   "execution_count": 7
  },
  {
   "metadata": {
    "ExecuteTime": {
     "end_time": "2024-05-20T10:20:18.747852Z",
     "start_time": "2024-05-20T10:20:18.723851Z"
    }
   },
   "cell_type": "code",
   "source": "",
   "id": "7b41be2cb2b50f1f",
   "outputs": [],
   "execution_count": 7
  },
  {
   "metadata": {
    "ExecuteTime": {
     "end_time": "2024-05-20T10:20:19.043002Z",
     "start_time": "2024-05-20T10:20:18.888849Z"
    }
   },
   "cell_type": "code",
   "source": "m3, m6 = m.rot_maps([3, 6])",
   "id": "82d62306f686b64b",
   "outputs": [],
   "execution_count": 8
  },
  {
   "metadata": {
    "ExecuteTime": {
     "end_time": "2024-05-20T10:20:21.524234Z",
     "start_time": "2024-05-20T10:20:19.428644Z"
    }
   },
   "cell_type": "code",
   "source": "mm = m.mirror_map(m_unselect=[0,1])",
   "id": "c9473aaabfa516ff",
   "outputs": [],
   "execution_count": 9
  },
  {
   "metadata": {
    "ExecuteTime": {
     "end_time": "2024-05-20T10:20:50.246060Z",
     "start_time": "2024-05-20T10:20:50.140063Z"
    }
   },
   "cell_type": "code",
   "source": "plt.imshow(m6[40:-40, 40:-40])",
   "id": "25e088c02d876392",
   "outputs": [
    {
     "data": {
      "text/plain": [
       "<matplotlib.image.AxesImage at 0x1d245d3d3c0>"
      ]
     },
     "execution_count": 13,
     "metadata": {},
     "output_type": "execute_result"
    }
   ],
   "execution_count": 13
  },
  {
   "metadata": {
    "ExecuteTime": {
     "end_time": "2024-05-20T10:20:23.457970Z",
     "start_time": "2024-05-20T10:20:23.354486Z"
    }
   },
   "cell_type": "code",
   "source": "plt.imshow(mm[40:-40, 40:-40])",
   "id": "8c9885424b581017",
   "outputs": [
    {
     "data": {
      "text/plain": [
       "<matplotlib.image.AxesImage at 0x1d245c60160>"
      ]
     },
     "execution_count": 11,
     "metadata": {},
     "output_type": "execute_result"
    }
   ],
   "execution_count": 11
  },
  {
   "metadata": {},
   "cell_type": "code",
   "execution_count": null,
   "source": "",
   "id": "ce3c05b2d34ed100",
   "outputs": []
  }
 ],
 "metadata": {
  "kernelspec": {
   "display_name": "Python 3",
   "language": "python",
   "name": "python3"
  },
  "language_info": {
   "codemirror_mode": {
    "name": "ipython",
    "version": 2
   },
   "file_extension": ".py",
   "mimetype": "text/x-python",
   "name": "python",
   "nbconvert_exporter": "python",
   "pygments_lexer": "ipython2",
   "version": "2.7.6"
  }
 },
 "nbformat": 4,
 "nbformat_minor": 5
}
