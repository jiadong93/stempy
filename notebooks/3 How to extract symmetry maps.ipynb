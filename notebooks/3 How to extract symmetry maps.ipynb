{
 "cells": [
  {
   "metadata": {},
   "cell_type": "markdown",
   "source": "# How to extract symmetry maps from atomic resolution images",
   "id": "d3500980a70fbbf6"
  },
  {
   "metadata": {
    "ExecuteTime": {
     "end_time": "2024-05-20T03:23:15.738034Z",
     "start_time": "2024-05-20T03:23:12.926074Z"
    }
   },
   "cell_type": "code",
   "source": [
    "%matplotlib qt\n",
    "import numpy as np\n",
    "import matplotlib.pyplot as plt\n",
    "\n",
    "from mtflearn import ZPs"
   ],
   "id": "a7e6a89e8beda717",
   "execution_count": 1,
   "outputs": []
  },
  {
   "metadata": {},
   "cell_type": "code",
   "execution_count": null,
   "source": "",
   "id": "f425368b13bfb9d",
   "outputs": []
  },
  {
   "metadata": {},
   "cell_type": "markdown",
   "source": "## load an image",
   "id": "fd32ef086403d1d0"
  },
  {
   "metadata": {
    "ExecuteTime": {
     "end_time": "2024-05-20T03:23:47.561355Z",
     "start_time": "2024-05-20T03:23:47.526356Z"
    }
   },
   "cell_type": "code",
   "source": [
    "filename = 'data\\\\monolayer_MoSe2_80K.npy'\n",
    "img = np.load(filename)[0:512, 0:512]"
   ],
   "id": "fe1ce0a08b2ef4bf",
   "execution_count": 4,
   "outputs": []
  },
  {
   "metadata": {
    "ExecuteTime": {
     "end_time": "2024-05-20T03:27:03.419172Z",
     "start_time": "2024-05-20T03:27:01.937183Z"
    }
   },
   "cell_type": "code",
   "source": [
    "zps = ZPs(n_max=10, size=53)\n",
    "m = zps.fit_transform(img)"
   ],
   "id": "27be3af3acab21b7",
   "execution_count": 17,
   "outputs": []
  },
  {
   "metadata": {
    "ExecuteTime": {
     "end_time": "2024-05-20T09:00:20.798068Z",
     "start_time": "2024-05-20T09:00:20.777087Z"
    }
   },
   "cell_type": "code",
   "source": "",
   "id": "7b41be2cb2b50f1f",
   "execution_count": 51,
   "outputs": []
  },
  {
   "metadata": {
    "ExecuteTime": {
     "end_time": "2024-05-20T03:27:04.449150Z",
     "start_time": "2024-05-20T03:27:04.323133Z"
    }
   },
   "cell_type": "code",
   "source": "m3, m6 = m.rot_maps([3, 6])",
   "id": "82d62306f686b64b",
   "execution_count": 18,
   "outputs": []
  },
  {
   "metadata": {},
   "cell_type": "code",
   "execution_count": null,
   "source": "",
   "id": "9cc5d0c66a2cc0de",
   "outputs": []
  },
  {
   "metadata": {
    "ExecuteTime": {
     "end_time": "2024-05-20T10:05:02.789411Z",
     "start_time": "2024-05-20T10:05:00.129462Z"
    }
   },
   "cell_type": "code",
   "source": "hh = m.mirror_map()",
   "id": "9165b84596f1bd9",
   "execution_count": 18,
   "outputs": []
  },
  {
   "metadata": {},
   "cell_type": "code",
   "execution_count": null,
   "source": "",
   "id": "b2b481946a1bae19",
   "outputs": []
  },
  {
   "metadata": {},
   "cell_type": "code",
   "execution_count": null,
   "source": "",
   "id": "a58537bb55984668",
   "outputs": []
  },
  {
   "metadata": {
    "ExecuteTime": {
     "end_time": "2024-05-20T03:27:05.096116Z",
     "start_time": "2024-05-20T03:27:05.002118Z"
    }
   },
   "cell_type": "code",
   "source": "plt.imshow(m3[40:-40, 40:-40])",
   "id": "25e088c02d876392",
   "execution_count": 19,
   "outputs": []
  },
  {
   "metadata": {
    "ExecuteTime": {
     "end_time": "2024-05-20T09:00:39.411083Z",
     "start_time": "2024-05-20T09:00:39.395085Z"
    }
   },
   "cell_type": "code",
   "source": "",
   "id": "8c9885424b581017",
   "execution_count": 52,
   "outputs": []
  },
  {
   "metadata": {},
   "cell_type": "code",
   "execution_count": null,
   "source": "",
   "id": "ce3c05b2d34ed100",
   "outputs": []
  }
 ],
 "metadata": {
  "kernelspec": {
   "display_name": "Python 3",
   "language": "python",
   "name": "python3"
  },
  "language_info": {
   "codemirror_mode": {
    "name": "ipython",
    "version": 2
   },
   "file_extension": ".py",
   "mimetype": "text/x-python",
   "name": "python",
   "nbconvert_exporter": "python",
   "pygments_lexer": "ipython2",
   "version": "2.7.6"
  }
 },
 "nbformat": 4,
 "nbformat_minor": 5
}
