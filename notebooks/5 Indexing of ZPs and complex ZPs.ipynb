{
 "cells": [
  {
   "cell_type": "markdown",
   "id": "231044e7b0b365d4",
   "metadata": {},
   "source": [
    "# This notebook shows the indexing of the ZPs. For both the real representation and the complex representation"
   ]
  },
  {
   "cell_type": "code",
   "execution_count": 1,
   "id": "9aee730e-f3ad-49a9-be57-74900dc3816f",
   "metadata": {},
   "source": [
    "import numpy as np\n",
    "def get_first_X_nm(X):\n",
    "    \"\"\"\n",
    "    Generates the first X (n, m) pairs for complex Zernike polynomials.\n",
    "\n",
    "    Parameters\n",
    "    ----------\n",
    "    X : int\n",
    "        The number of (n, m) pairs to generate.\n",
    "\n",
    "    Returns\n",
    "    -------\n",
    "    nm_list : list of tuples\n",
    "        A list containing tuples of (n, m) pairs.\n",
    "    \"\"\"\n",
    "    nm_list = []\n",
    "    n = 0\n",
    "    while len(nm_list) < X:\n",
    "        # m ranges from -n to n in steps of 2\n",
    "        for m in range(-n, n + 1, 2):\n",
    "            if (n - abs(m)) % 2 == 0:\n",
    "                nm_list.append((n, m))\n",
    "                if len(nm_list) == X:\n",
    "                    break\n",
    "        n += 1\n",
    "    return nm_list"
   ],
   "outputs": []
  },
  {
   "cell_type": "code",
   "execution_count": 2,
   "id": "77d1064b-a835-473d-bbb0-66b4a23df3bb",
   "metadata": {},
   "source": [
    "def nm2j(n, m): # taken from https://github.com/jiadongdan/motif-learn/blob/main/mtflearn/features/_zmoments.py\n",
    "    n = np.atleast_1d(n)\n",
    "    n = np.array(n)\n",
    "    m = np.array(m)\n",
    "    \n",
    "    # Validate inputs\n",
    "    if not np.all(n >= 0):\n",
    "        raise ValueError(\"Radial order n must be non-negative.\")\n",
    "    if not np.all(np.abs(m) <= n):\n",
    "        raise ValueError(\"Azimuthal frequency m must satisfy |m| ≤ n.\")\n",
    "    if not np.all((n - np.abs(m)) % 2 == 0):\n",
    "        raise ValueError(\"n - |m| must be even.\")\n",
    "        \n",
    "    j = ((n + 2) * n + m) // 2\n",
    "    return j"
   ],
   "outputs": []
  },
  {
   "cell_type": "code",
   "execution_count": 3,
   "id": "d8436c81-8bc6-4415-bce5-580e62795837",
   "metadata": {},
   "source": [
    "def nm2j_complex(n, m): # from https://github.com/jiadongdan/motif-learn/blob/main/mtflearn/features/_zmoments.py\n",
    "    n = np.atleast_1d(n)\n",
    "    m = np.atleast_1d(m)\n",
    "    \n",
    "    # Validate inputs\n",
    "    if not np.all(n >= 0):\n",
    "        raise ValueError(\"Radial order n must be non-negative.\")\n",
    "    if not np.all(m >= 0):\n",
    "        raise ValueError(\"Azimuthal frequency m must be non-negative.\")\n",
    "    if not np.all(np.abs(m) <= n):\n",
    "        raise ValueError(\"Azimuthal frequency m must satisfy |m| ≤ n.\")\n",
    "    if not np.all((n - np.abs(m)) % 2 == 0):\n",
    "        raise ValueError(\"n - |m| must be even.\")\n",
    "    \n",
    "    i = np.array(n ** 2 + 2 * n + 2 * m)\n",
    "    mask = np.array(n) % 2 == 0\n",
    "    i[mask] = i[mask] // 4\n",
    "    i[~mask] = (i[~mask] - 1) // 4\n",
    "    if i.size == 1:\n",
    "        i = i.item()\n",
    "    return i"
   ],
   "outputs": []
  },
  {
   "cell_type": "code",
   "execution_count": 4,
   "id": "1bb59199-afe6-4165-9041-0e75eb6ec730",
   "metadata": {
    "tags": []
   },
   "source": [
    "# Number of indices to return\n",
    "X = 66\n",
    "\n",
    "# Generate the first X (n, m) pairs\n",
    "nm_pairs = get_first_X_nm(X)\n",
    "\n",
    "# Print the results\n",
    "print(f\"First {X} (n, m) pairs:\\t\\t\\t index for complex ZP\")\n",
    "for idx, (n, m) in enumerate(nm_pairs):\n",
    "    if m<0:\n",
    "        print(f'Index {idx}:\\tn={n},\\tm={m}, \\t{nm2j(n,m)},\\t NA')\n",
    "    else:\n",
    "        print(f'Index {idx}:\\tn={n},\\tm={m}, \\t{nm2j(n,m)},\\t {nm2j_complex(n,m)}')\n"
   ],
   "outputs": []
  },
  {
   "cell_type": "code",
   "execution_count": null,
   "id": "0dd504ad-08b8-4568-8a27-d5a2891c7a0b",
   "metadata": {},
   "source": [],
   "outputs": []
  }
 ],
 "metadata": {
  "kernelspec": {
   "display_name": "Python 3 (ipykernel)",
   "language": "python",
   "name": "python3"
  },
  "language_info": {
   "codemirror_mode": {
    "name": "ipython",
    "version": 3
   },
   "file_extension": ".py",
   "mimetype": "text/x-python",
   "name": "python",
   "nbconvert_exporter": "python",
   "pygments_lexer": "ipython3",
   "version": "3.9.16"
  }
 },
 "nbformat": 4,
 "nbformat_minor": 5
}
