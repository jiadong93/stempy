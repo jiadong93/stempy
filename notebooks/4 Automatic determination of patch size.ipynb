{
 "cells": [
  {
   "cell_type": "code",
   "id": "initial_id",
   "metadata": {
    "collapsed": true,
    "ExecuteTime": {
     "end_time": "2024-05-20T09:35:08.999981Z",
     "start_time": "2024-05-20T09:35:08.974979Z"
    }
   },
   "source": [
    "%matplotlib qt\n",
    "import numpy as np\n",
    "import matplotlib.pyplot as plt\n",
    "\n",
    "#from mtflearn import ZPs"
   ],
   "outputs": [],
   "execution_count": 9
  },
  {
   "metadata": {
    "ExecuteTime": {
     "end_time": "2024-05-20T09:35:09.979612Z",
     "start_time": "2024-05-20T09:35:09.955593Z"
    }
   },
   "cell_type": "code",
   "source": [
    "from mtflearn.features import autocorrelation, radial_profile, get_characteristic_length, get_characteristic_length_fft\n",
    "from mtflearn.utils import normalize_image"
   ],
   "id": "d79a45862f3e9b25",
   "outputs": [],
   "execution_count": 10
  },
  {
   "metadata": {
    "ExecuteTime": {
     "end_time": "2024-05-20T09:35:10.355585Z",
     "start_time": "2024-05-20T09:35:10.330585Z"
    }
   },
   "cell_type": "code",
   "source": "from skimage.transform import resize",
   "id": "891eeaa61d4ea31d",
   "outputs": [],
   "execution_count": 11
  },
  {
   "metadata": {
    "ExecuteTime": {
     "end_time": "2024-05-20T09:35:10.591578Z",
     "start_time": "2024-05-20T09:35:10.571580Z"
    }
   },
   "cell_type": "code",
   "source": "",
   "id": "ec091987a852ab42",
   "outputs": [],
   "execution_count": 11
  },
  {
   "metadata": {},
   "cell_type": "markdown",
   "source": "## Load image",
   "id": "ee24799147af62e"
  },
  {
   "metadata": {
    "ExecuteTime": {
     "end_time": "2024-05-20T09:35:10.968567Z",
     "start_time": "2024-05-20T09:35:10.893549Z"
    }
   },
   "cell_type": "code",
   "source": [
    "filename = 'data\\\\monolayer_MoSe2_80K.npy'\n",
    "img = np.load(filename)[0:800, 0:800]\n",
    "img = resize(img, (512, 512))\n",
    "img = normalize_image(img, 0, 1)"
   ],
   "id": "1d05106aaec9fa98",
   "outputs": [],
   "execution_count": 12
  },
  {
   "metadata": {},
   "cell_type": "markdown",
   "source": "## Method 1: get lattice constant from Fourier space",
   "id": "e0f7f8387c31a98a"
  },
  {
   "metadata": {
    "ExecuteTime": {
     "end_time": "2024-05-20T09:35:12.481514Z",
     "start_time": "2024-05-20T09:35:12.394518Z"
    }
   },
   "cell_type": "code",
   "source": "get_characteristic_length_fft(img)",
   "id": "dd3c099a2e40a723",
   "outputs": [
    {
     "data": {
      "text/plain": [
       "24.38095238095238"
      ]
     },
     "execution_count": 13,
     "metadata": {},
     "output_type": "execute_result"
    }
   ],
   "execution_count": 13
  },
  {
   "metadata": {},
   "cell_type": "markdown",
   "source": "## Method 2: get lattice constant from radial distribution functions",
   "id": "5800771d9f051803"
  },
  {
   "metadata": {
    "ExecuteTime": {
     "end_time": "2024-05-20T09:35:15.340009Z",
     "start_time": "2024-05-20T09:35:15.246010Z"
    }
   },
   "cell_type": "code",
   "source": [
    "a1 = get_characteristic_length(img)\n",
    "print('Lattice constant is {} pixels'.format(a1))"
   ],
   "id": "68ea640dfa95e51",
   "outputs": [
    {
     "name": "stdout",
     "output_type": "stream",
     "text": [
      "Lattice constant is 27 pixels\n"
     ]
    }
   ],
   "execution_count": 14
  },
  {
   "metadata": {
    "ExecuteTime": {
     "end_time": "2024-05-20T08:54:36.980996Z",
     "start_time": "2024-05-20T08:54:36.933Z"
    }
   },
   "cell_type": "code",
   "source": "",
   "id": "24e8f7bf9f14fe48",
   "execution_count": 74,
   "outputs": []
  },
  {
   "metadata": {},
   "cell_type": "code",
   "execution_count": null,
   "source": "",
   "id": "9b5e564ae8bd23ac",
   "outputs": []
  }
 ],
 "metadata": {
  "kernelspec": {
   "display_name": "Python 3",
   "language": "python",
   "name": "python3"
  },
  "language_info": {
   "codemirror_mode": {
    "name": "ipython",
    "version": 2
   },
   "file_extension": ".py",
   "mimetype": "text/x-python",
   "name": "python",
   "nbconvert_exporter": "python",
   "pygments_lexer": "ipython2",
   "version": "2.7.6"
  }
 },
 "nbformat": 4,
 "nbformat_minor": 5
}
