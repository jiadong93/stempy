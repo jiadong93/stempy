{
 "cells": [
  {
   "cell_type": "code",
   "id": "initial_id",
   "metadata": {
    "collapsed": true,
    "ExecuteTime": {
     "end_time": "2024-05-20T06:17:35.444353Z",
     "start_time": "2024-05-20T06:17:31.772459Z"
    }
   },
   "source": [
    "%matplotlib qt\n",
    "import numpy as np\n",
    "import matplotlib.pyplot as plt\n",
    "\n",
    "#from mtflearn import ZPs"
   ],
   "execution_count": 1,
   "outputs": []
  },
  {
   "metadata": {
    "ExecuteTime": {
     "end_time": "2024-05-20T06:17:40.300259Z",
     "start_time": "2024-05-20T06:17:35.455353Z"
    }
   },
   "cell_type": "code",
   "source": [
    "from mtflearn.features import autocorrelation, radial_profile, get_characteristic_length\n",
    "from mtflearn.utils import normalize_image"
   ],
   "id": "d79a45862f3e9b25",
   "execution_count": 2,
   "outputs": []
  },
  {
   "metadata": {
    "ExecuteTime": {
     "end_time": "2024-05-20T06:16:42.618531Z",
     "start_time": "2024-05-20T06:16:42.595532Z"
    }
   },
   "cell_type": "code",
   "source": "",
   "id": "891eeaa61d4ea31d",
   "execution_count": 2,
   "outputs": []
  },
  {
   "metadata": {
    "ExecuteTime": {
     "end_time": "2024-05-20T06:17:51.641993Z",
     "start_time": "2024-05-20T06:17:51.617973Z"
    }
   },
   "cell_type": "code",
   "source": "",
   "id": "ec091987a852ab42",
   "execution_count": 2,
   "outputs": []
  },
  {
   "metadata": {
    "ExecuteTime": {
     "end_time": "2024-05-20T06:17:51.800989Z",
     "start_time": "2024-05-20T06:17:51.784990Z"
    }
   },
   "cell_type": "code",
   "source": "",
   "id": "3a0cfcd211db82f3",
   "execution_count": 2,
   "outputs": []
  },
  {
   "metadata": {
    "ExecuteTime": {
     "end_time": "2024-05-20T06:17:52.021963Z",
     "start_time": "2024-05-20T06:17:51.964965Z"
    }
   },
   "cell_type": "code",
   "source": [
    "filename = 'data\\\\monolayer_MoSe2_80K.npy'\n",
    "img = np.load(filename)[0:1024, 0:1024]\n",
    "img = normalize_image(img, 0, 1)"
   ],
   "id": "1d05106aaec9fa98",
   "execution_count": 3,
   "outputs": []
  },
  {
   "metadata": {
    "ExecuteTime": {
     "end_time": "2024-05-20T06:17:52.664948Z",
     "start_time": "2024-05-20T06:17:52.270959Z"
    }
   },
   "cell_type": "code",
   "source": "get_characteristic_length(img)",
   "id": "68ea640dfa95e51",
   "execution_count": 4,
   "outputs": []
  },
  {
   "metadata": {},
   "cell_type": "code",
   "execution_count": null,
   "source": "",
   "id": "2adefef2eea050ce",
   "outputs": []
  },
  {
   "metadata": {},
   "cell_type": "code",
   "execution_count": null,
   "source": "",
   "id": "4ed57899b7d068ac",
   "outputs": []
  },
  {
   "metadata": {
    "ExecuteTime": {
     "end_time": "2024-05-20T06:04:53.234556Z",
     "start_time": "2024-05-20T06:04:52.934564Z"
    }
   },
   "cell_type": "code",
   "source": [
    "hh = autocorrelation(img)\n",
    "ll = radial_profile(hh)"
   ],
   "id": "158859ef93656f3d",
   "execution_count": 15,
   "outputs": []
  },
  {
   "metadata": {
    "ExecuteTime": {
     "end_time": "2024-05-20T06:04:53.985539Z",
     "start_time": "2024-05-20T06:04:53.878542Z"
    }
   },
   "cell_type": "code",
   "source": [
    "plt.plot(ll)\n",
    "plt.axhline(ll.mean())"
   ],
   "id": "15e0f98eb5b2177f",
   "execution_count": 16,
   "outputs": []
  },
  {
   "metadata": {
    "ExecuteTime": {
     "end_time": "2024-05-20T06:04:55.707500Z",
     "start_time": "2024-05-20T06:04:55.688503Z"
    }
   },
   "cell_type": "code",
   "source": "from scipy.signal import find_peaks",
   "id": "ec4c4ba8b7199707",
   "execution_count": 17,
   "outputs": []
  },
  {
   "metadata": {
    "ExecuteTime": {
     "end_time": "2024-05-20T06:04:56.166488Z",
     "start_time": "2024-05-20T06:04:56.139490Z"
    }
   },
   "cell_type": "code",
   "source": "find_peaks(ll)",
   "id": "88637846168a2b34",
   "execution_count": 18,
   "outputs": []
  },
  {
   "metadata": {
    "ExecuteTime": {
     "end_time": "2024-05-20T06:06:12.374270Z",
     "start_time": "2024-05-20T06:06:12.136276Z"
    }
   },
   "cell_type": "code",
   "source": [
    "peaks, _ = find_peaks(ll, height=0)\n",
    "plt.plot(peaks, ll[peaks], \"x\")\n",
    "plt.plot(ll)\n",
    "plt.axhline(ll.mean())"
   ],
   "id": "5c1b35af62a40ffe",
   "execution_count": 22,
   "outputs": []
  },
  {
   "metadata": {
    "ExecuteTime": {
     "end_time": "2024-05-20T06:07:17.726788Z",
     "start_time": "2024-05-20T06:07:17.712788Z"
    }
   },
   "cell_type": "code",
   "source": "",
   "id": "fa02e8e2d120410b",
   "execution_count": 25,
   "outputs": []
  },
  {
   "metadata": {},
   "cell_type": "code",
   "execution_count": null,
   "source": "",
   "id": "9b5e564ae8bd23ac",
   "outputs": []
  }
 ],
 "metadata": {
  "kernelspec": {
   "display_name": "Python 3",
   "language": "python",
   "name": "python3"
  },
  "language_info": {
   "codemirror_mode": {
    "name": "ipython",
    "version": 2
   },
   "file_extension": ".py",
   "mimetype": "text/x-python",
   "name": "python",
   "nbconvert_exporter": "python",
   "pygments_lexer": "ipython2",
   "version": "2.7.6"
  }
 },
 "nbformat": 4,
 "nbformat_minor": 5
}
