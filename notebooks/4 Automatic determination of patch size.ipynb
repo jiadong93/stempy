{
 "cells": [
  {
   "cell_type": "code",
   "id": "initial_id",
   "metadata": {
    "collapsed": true,
    "ExecuteTime": {
     "end_time": "2024-05-20T09:24:16.731828Z",
     "start_time": "2024-05-20T09:24:15.127824Z"
    }
   },
   "source": [
    "%matplotlib qt\n",
    "import numpy as np\n",
    "import matplotlib.pyplot as plt\n",
    "\n",
    "#from mtflearn import ZPs"
   ],
   "outputs": [],
   "execution_count": 1
  },
  {
   "metadata": {
    "ExecuteTime": {
     "end_time": "2024-05-20T09:24:23.724787Z",
     "start_time": "2024-05-20T09:24:21.766098Z"
    }
   },
   "cell_type": "code",
   "source": [
    "from mtflearn.features import autocorrelation, radial_profile, get_characteristic_length, get_characteristic_length_fft\n",
    "from mtflearn.utils import normalize_image"
   ],
   "id": "d79a45862f3e9b25",
   "outputs": [],
   "execution_count": 2
  },
  {
   "metadata": {
    "ExecuteTime": {
     "end_time": "2024-05-20T09:24:24.171778Z",
     "start_time": "2024-05-20T09:24:24.146778Z"
    }
   },
   "cell_type": "code",
   "source": "from skimage.transform import resize",
   "id": "891eeaa61d4ea31d",
   "outputs": [],
   "execution_count": 3
  },
  {
   "metadata": {
    "ExecuteTime": {
     "end_time": "2024-05-20T09:24:25.036208Z",
     "start_time": "2024-05-20T09:24:25.021204Z"
    }
   },
   "cell_type": "code",
   "source": "",
   "id": "ec091987a852ab42",
   "outputs": [],
   "execution_count": 3
  },
  {
   "metadata": {},
   "cell_type": "markdown",
   "source": "## Load image",
   "id": "73114210167a2bd8"
  },
  {
   "metadata": {
    "ExecuteTime": {
     "end_time": "2024-05-20T09:24:27.990143Z",
     "start_time": "2024-05-20T09:24:27.905144Z"
    }
   },
   "cell_type": "code",
   "source": [
    "filename = 'data\\\\monolayer_MoSe2_80K.npy'\n",
    "img = np.load(filename)[0:800, 0:800]\n",
    "img = resize(img, (512, 512))\n",
    "img = normalize_image(img, 0, 1)"
   ],
   "id": "1d05106aaec9fa98",
   "outputs": [],
   "execution_count": 4
  },
  {
   "metadata": {},
   "cell_type": "markdown",
   "source": "## Method 1: get lattice constant from Fourier space",
   "id": "b6704d626193bcd7"
  },
  {
   "metadata": {
    "ExecuteTime": {
     "end_time": "2024-05-20T09:25:27.506315Z",
     "start_time": "2024-05-20T09:25:27.426599Z"
    }
   },
   "cell_type": "code",
   "source": [
    "s = get_characteristic_length_fft(img)\n",
    "a1 = 2/np.sqrt(3) * s\n",
    "print('Lattice constant is {} pixels.'.format(a1))"
   ],
   "id": "764e2a9707c45179",
   "outputs": [
    {
     "name": "stdout",
     "output_type": "stream",
     "text": [
      "Lattice constant is 28.15269884048461 pixels.\n"
     ]
    }
   ],
   "execution_count": 7
  },
  {
   "metadata": {},
   "cell_type": "markdown",
   "source": "## Method 2: get lattice constant from raidal distribution function",
   "id": "33ec33486be2a3fc"
  },
  {
   "metadata": {
    "ExecuteTime": {
     "end_time": "2024-05-20T09:30:20.655291Z",
     "start_time": "2024-05-20T09:30:20.544293Z"
    }
   },
   "cell_type": "code",
   "source": [
    "a2 = get_characteristic_length(img)\n",
    "\n",
    "print('Lattice constant is {} pixels.'.format(a2))"
   ],
   "id": "68ea640dfa95e51",
   "outputs": [
    {
     "name": "stdout",
     "output_type": "stream",
     "text": [
      "Lattice constant is 27 pixels.\n"
     ]
    }
   ],
   "execution_count": 8
  },
  {
   "metadata": {},
   "cell_type": "code",
   "outputs": [],
   "execution_count": null,
   "source": "",
   "id": "a8af242e8b0f38a5"
  },
  {
   "metadata": {},
   "cell_type": "code",
   "execution_count": null,
   "source": "",
   "id": "9b5e564ae8bd23ac",
   "outputs": []
  }
 ],
 "metadata": {
  "kernelspec": {
   "display_name": "Python 3",
   "language": "python",
   "name": "python3"
  },
  "language_info": {
   "codemirror_mode": {
    "name": "ipython",
    "version": 2
   },
   "file_extension": ".py",
   "mimetype": "text/x-python",
   "name": "python",
   "nbconvert_exporter": "python",
   "pygments_lexer": "ipython2",
   "version": "2.7.6"
  }
 },
 "nbformat": 4,
 "nbformat_minor": 5
}
