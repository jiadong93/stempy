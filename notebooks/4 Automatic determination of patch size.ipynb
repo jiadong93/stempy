{
 "cells": [
  {
   "cell_type": "code",
   "id": "initial_id",
   "metadata": {
    "collapsed": true,
    "ExecuteTime": {
     "end_time": "2024-05-20T06:17:35.444353Z",
     "start_time": "2024-05-20T06:17:31.772459Z"
    }
   },
   "source": [
    "%matplotlib qt\n",
    "import numpy as np\n",
    "import matplotlib.pyplot as plt\n",
    "\n",
    "#from mtflearn import ZPs"
   ],
   "execution_count": 1,
   "outputs": []
  },
  {
   "metadata": {
    "ExecuteTime": {
     "end_time": "2024-05-20T06:17:40.300259Z",
     "start_time": "2024-05-20T06:17:35.455353Z"
    }
   },
   "cell_type": "code",
   "source": [
    "from mtflearn.features import autocorrelation, radial_profile, get_characteristic_length\n",
    "from mtflearn.utils import normalize_image"
   ],
   "id": "d79a45862f3e9b25",
   "execution_count": 2,
   "outputs": []
  },
  {
   "metadata": {
    "ExecuteTime": {
     "end_time": "2024-05-20T06:16:42.618531Z",
     "start_time": "2024-05-20T06:16:42.595532Z"
    }
   },
   "cell_type": "code",
   "source": "from skimage.transform import resize",
   "id": "891eeaa61d4ea31d",
   "execution_count": 2,
   "outputs": []
  },
  {
   "metadata": {
    "ExecuteTime": {
     "end_time": "2024-05-20T06:17:51.641993Z",
     "start_time": "2024-05-20T06:17:51.617973Z"
    }
   },
   "cell_type": "code",
   "source": "",
   "id": "ec091987a852ab42",
   "execution_count": 2,
   "outputs": []
  },
  {
   "metadata": {
    "ExecuteTime": {
     "end_time": "2024-05-20T06:17:51.800989Z",
     "start_time": "2024-05-20T06:17:51.784990Z"
    }
   },
   "cell_type": "code",
   "source": "",
   "id": "3a0cfcd211db82f3",
   "execution_count": 2,
   "outputs": []
  },
  {
   "metadata": {
    "ExecuteTime": {
     "end_time": "2024-05-20T08:52:20.377949Z",
     "start_time": "2024-05-20T08:52:20.295972Z"
    }
   },
   "cell_type": "code",
   "source": [
    "filename = 'data\\\\monolayer_MoSe2_80K.npy'\n",
    "img = np.load(filename)[0:800, 0:800]\n",
    "img = resize(img, (512, 512))\n",
    "img = normalize_image(img, 0, 1)"
   ],
   "id": "1d05106aaec9fa98",
   "outputs": [],
   "execution_count": 70
  },
  {
   "metadata": {
    "ExecuteTime": {
     "end_time": "2024-05-20T08:52:20.630945Z",
     "start_time": "2024-05-20T08:52:20.529966Z"
    }
   },
   "cell_type": "code",
   "source": "get_characteristic_length(img)",
   "id": "68ea640dfa95e51",
   "outputs": [
    {
     "data": {
      "text/plain": [
       "27"
      ]
     },
     "execution_count": 71,
     "metadata": {},
     "output_type": "execute_result"
    }
   ],
   "execution_count": 71
  },
  {
   "metadata": {
    "ExecuteTime": {
     "end_time": "2024-05-20T08:54:36.980996Z",
     "start_time": "2024-05-20T08:54:36.933Z"
    }
   },
   "cell_type": "code",
   "source": "img = np.load(filename)",
   "id": "24e8f7bf9f14fe48",
   "outputs": [],
   "execution_count": 74
  },
  {
   "metadata": {
    "ExecuteTime": {
     "end_time": "2024-05-20T08:55:44.150738Z",
     "start_time": "2024-05-20T08:55:44.125757Z"
    }
   },
   "cell_type": "code",
   "source": [
    "from skimage.transform import warp_polar\n",
    "\n",
    "def baseline_correction(y,niter=10):\n",
    "    n = len(y)\n",
    "    y_ = np.log(np.log(np.sqrt(y +1)+1)+1)\n",
    "    yy = np.zeros_like(y)\n",
    "\n",
    "    for pp in np.arange(1,niter+1):\n",
    "        r1 = y_[pp:n-pp]\n",
    "        r2 = (np.roll(y_,-pp)[pp:n-pp] + np.roll(y_,pp)[pp:n-pp])/2\n",
    "        yy = np.minimum(r1,r2)\n",
    "        y_[pp:n-pp] = yy\n",
    "\n",
    "    baseline = (np.exp(np.exp(y_)-1)-1)**2 -1\n",
    "    return baseline\n",
    "\n",
    "def get_fft_line(img):\n",
    "    fft_abs = np.abs(np.fft.fftshift(np.fft.fft2(img)))\n",
    "    fft_log = np.log(fft_abs + 1)\n",
    "    i ,j = np.unravel_index(np.argmax(fft_log), shape=img.shape)\n",
    "    print(i, j)\n",
    "    line = warp_polar(fft_log, center=(i, j)).mean(axis=0)[0:i]\n",
    "    # get the baseline\n",
    "    baseline = baseline_correction(line)\n",
    "    # remove the baseline\n",
    "    line_ = line - baseline\n",
    "    return line_"
   ],
   "id": "2adefef2eea050ce",
   "outputs": [],
   "execution_count": 81
  },
  {
   "metadata": {
    "ExecuteTime": {
     "end_time": "2024-05-20T08:55:17.978195Z",
     "start_time": "2024-05-20T08:55:17.065216Z"
    }
   },
   "cell_type": "code",
   "source": [
    "ll = get_fft_line(img)\n",
    "plt.plot(ll)"
   ],
   "id": "4ed57899b7d068ac",
   "outputs": [
    {
     "name": "stdout",
     "output_type": "stream",
     "text": [
      "1024 1024\n"
     ]
    },
    {
     "data": {
      "text/plain": [
       "[<matplotlib.lines.Line2D at 0x1e1e5698520>]"
      ]
     },
     "execution_count": 80,
     "metadata": {},
     "output_type": "execute_result"
    }
   ],
   "execution_count": 80
  },
  {
   "metadata": {
    "ExecuteTime": {
     "end_time": "2024-05-20T08:55:02.841362Z",
     "start_time": "2024-05-20T08:55:02.824361Z"
    }
   },
   "cell_type": "code",
   "source": "2048/56.7 *0.64",
   "id": "69f3b194e56495d7",
   "outputs": [
    {
     "data": {
      "text/plain": [
       "23.11675485008818"
      ]
     },
     "execution_count": 77,
     "metadata": {},
     "output_type": "execute_result"
    }
   ],
   "execution_count": 77
  },
  {
   "metadata": {
    "ExecuteTime": {
     "end_time": "2024-05-20T08:38:40.925651Z",
     "start_time": "2024-05-20T08:38:40.898652Z"
    }
   },
   "cell_type": "code",
   "source": "27*np.sqrt(3) ",
   "id": "7e237d4ff19d76b6",
   "outputs": [
    {
     "data": {
      "text/plain": [
       "46.76537180435968"
      ]
     },
     "execution_count": 58,
     "metadata": {},
     "output_type": "execute_result"
    }
   ],
   "execution_count": 58
  },
  {
   "metadata": {
    "ExecuteTime": {
     "end_time": "2024-05-20T08:52:25.772991Z",
     "start_time": "2024-05-20T08:52:25.668994Z"
    }
   },
   "cell_type": "code",
   "source": [
    "hh = autocorrelation(img)\n",
    "ll = radial_profile(hh)"
   ],
   "id": "158859ef93656f3d",
   "outputs": [],
   "execution_count": 72
  },
  {
   "metadata": {
    "ExecuteTime": {
     "end_time": "2024-05-20T08:52:26.210666Z",
     "start_time": "2024-05-20T08:52:26.105686Z"
    }
   },
   "cell_type": "code",
   "source": [
    "plt.plot(ll)\n",
    "plt.axhline(ll.mean())"
   ],
   "id": "15e0f98eb5b2177f",
   "outputs": [
    {
     "data": {
      "text/plain": [
       "<matplotlib.lines.Line2D at 0x1e1e9b13880>"
      ]
     },
     "execution_count": 73,
     "metadata": {},
     "output_type": "execute_result"
    }
   ],
   "execution_count": 73
  },
  {
   "metadata": {
    "ExecuteTime": {
     "end_time": "2024-05-20T06:04:55.707500Z",
     "start_time": "2024-05-20T06:04:55.688503Z"
    }
   },
   "cell_type": "code",
   "source": "from scipy.signal import find_peaks",
   "id": "ec4c4ba8b7199707",
   "execution_count": 17,
   "outputs": []
  },
  {
   "metadata": {
    "ExecuteTime": {
     "end_time": "2024-05-20T06:04:56.166488Z",
     "start_time": "2024-05-20T06:04:56.139490Z"
    }
   },
   "cell_type": "code",
   "source": "find_peaks(ll)",
   "id": "88637846168a2b34",
   "execution_count": 18,
   "outputs": []
  },
  {
   "metadata": {
    "ExecuteTime": {
     "end_time": "2024-05-20T06:06:12.374270Z",
     "start_time": "2024-05-20T06:06:12.136276Z"
    }
   },
   "cell_type": "code",
   "source": [
    "peaks, _ = find_peaks(ll, height=0)\n",
    "plt.plot(peaks, ll[peaks], \"x\")\n",
    "plt.plot(ll)\n",
    "plt.axhline(ll.mean())"
   ],
   "id": "5c1b35af62a40ffe",
   "execution_count": 22,
   "outputs": []
  },
  {
   "metadata": {
    "ExecuteTime": {
     "end_time": "2024-05-20T06:07:17.726788Z",
     "start_time": "2024-05-20T06:07:17.712788Z"
    }
   },
   "cell_type": "code",
   "source": "",
   "id": "fa02e8e2d120410b",
   "execution_count": 25,
   "outputs": []
  },
  {
   "metadata": {},
   "cell_type": "code",
   "execution_count": null,
   "source": "",
   "id": "9b5e564ae8bd23ac",
   "outputs": []
  }
 ],
 "metadata": {
  "kernelspec": {
   "display_name": "Python 3",
   "language": "python",
   "name": "python3"
  },
  "language_info": {
   "codemirror_mode": {
    "name": "ipython",
    "version": 2
   },
   "file_extension": ".py",
   "mimetype": "text/x-python",
   "name": "python",
   "nbconvert_exporter": "python",
   "pygments_lexer": "ipython2",
   "version": "2.7.6"
  }
 },
 "nbformat": 4,
 "nbformat_minor": 5
}
