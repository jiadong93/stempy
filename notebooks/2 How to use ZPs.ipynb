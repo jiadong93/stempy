{
 "cells": [
  {
   "cell_type": "markdown",
   "id": "231044e7b0b365d4",
   "metadata": {},
   "source": [
    "# Notebook"
   ]
  },
  {
   "cell_type": "code",
   "execution_count": 50,
   "id": "8ad2ab624d5d3419",
   "metadata": {
    "ExecuteTime": {
     "end_time": "2024-09-03T02:26:08.001769Z",
     "start_time": "2024-09-03T02:26:07.977768Z"
    }
   },
   "source": [
    "#%matplotlib qt\n",
    "%matplotlib inline\n",
    "import numpy as np\n",
    "import matplotlib.pyplot as plt\n",
    "\n",
    "# import the ZPs\n",
    "from mtflearn import ZPs"
   ],
   "outputs": []
  },
  {
   "cell_type": "markdown",
   "id": "e9900b46717e4856",
   "metadata": {},
   "source": [
    "## Step 1: create a ZPs object\n",
    "\n",
    "`n_max`: the maximum radial index for the set of Zernike polynomials\n",
    "\n",
    "`size`: the patch size to represent each Zernike polynomial"
   ]
  },
  {
   "cell_type": "code",
   "execution_count": 51,
   "id": "f9ade007d05e26f7",
   "metadata": {
    "ExecuteTime": {
     "end_time": "2024-09-03T02:26:09.563707Z",
     "start_time": "2024-09-03T02:26:09.378711Z"
    }
   },
   "source": [
    "n_max = 10\n",
    "size = 128\n",
    "zps = ZPs(n_max=10, size=size)\n",
    "\n",
    "# zps_data is a 3D numpy array with a shape of (N, size, size), where N is the total number of Zernike polynomial, if n_max = 10, N = 66\n",
    "zps_data = zps.polynomials\n",
    "print(zps_data.shape)"
   ],
   "outputs": []
  },
  {
   "cell_type": "markdown",
   "id": "bb6179ec30beeabc",
   "metadata": {},
   "source": [
    "## Step 2: visualize the Zernike polynomials"
   ]
  },
  {
   "cell_type": "code",
   "execution_count": 52,
   "id": "1391329d2113ac5f",
   "metadata": {
    "ExecuteTime": {
     "end_time": "2024-09-03T02:26:12.969483Z",
     "start_time": "2024-09-03T02:26:11.103043Z"
    }
   },
   "source": [
    "# plot the first 16 Zernike polynomials\n",
    "\n",
    "fig, axes = plt.subplots(4, 4, figsize=(7.2, 7.2))\n",
    "for i, ax in enumerate(axes.ravel()):\n",
    "    ax.imshow(zps_data[i])"
   ],
   "outputs": []
  },
  {
   "cell_type": "markdown",
   "id": "e4b0bf956a2aa58e",
   "metadata": {},
   "source": [
    "## Step 3: preparing your own data"
   ]
  },
  {
   "cell_type": "code",
   "execution_count": 53,
   "id": "37ff30407e08a8db",
   "metadata": {
    "ExecuteTime": {
     "end_time": "2024-09-03T02:26:14.142123Z",
     "start_time": "2024-09-03T02:26:14.113103Z"
    }
   },
   "source": [
    "import numpy as np\n",
    "from skimage.transform import rotate\n",
    "from skimage.util import random_noise\n",
    "\n",
    "def rotation_matrix(angle):\n",
    "    angle = np.radians(angle)\n",
    "    s = np.sin(angle)\n",
    "    c = np.cos(angle)\n",
    "    R = np.array([(c, -s), (s, c)])\n",
    "    return process_zeros(R)\n",
    "\n",
    "\n",
    "def process_zeros(data, eps=1e-9):\n",
    "    data[np.abs(data) < eps] = 0.0\n",
    "    return data\n",
    "\n",
    "\n",
    "def rotate_pts(pts, angle):\n",
    "    pts = np.array(pts)\n",
    "    R = rotation_matrix(angle)\n",
    "    return np.dot(pts, R)\n",
    "\n",
    "\n",
    "def many_gaussians(pts, sigma, s):\n",
    "    data = np.zeros((s, s))\n",
    "    Y, X = np.ogrid[-s // 2:s // 2:1j * s, -s // 2:s // 2:1j * s]\n",
    "    for (x, y) in pts:\n",
    "        data = data + np.exp((-(X - x) ** 2 - (Y - y) ** 2) / (2 * sigma * sigma))\n",
    "    return data\n",
    "\n",
    "def gn(n, size=128, sigma=None, l=None, theta=0, include_center=True, A=0.9):\n",
    "    if sigma is None:\n",
    "        sigma = size / 20\n",
    "    if l is None:\n",
    "        l = size * 0.25\n",
    "    else:\n",
    "        l = size * l\n",
    "    p0 = np.array([0, l])\n",
    "    p0 = rotate_pts(p0, theta)\n",
    "    pts = np.array([rotate_pts(p0, 360 * i / n) for i in range(n)])\n",
    "    if include_center:\n",
    "        gs = many_gaussians(pts, sigma, size) + A * many_gaussians([(0, 0)], sigma, size)\n",
    "    else:\n",
    "        gs = many_gaussians(pts, sigma, size)\n",
    "\n",
    "    return gs\n",
    "\n",
    "\n",
    "def make_rot_data(N, n=3, size=128, sigma=None, l=None, theta=0, include_center=True, A=0.9):\n",
    "    img = gn(n, size, sigma, l, theta, include_center, A)\n",
    "\n",
    "    angles = np.linspace(0, 360, N)\n",
    "    ps = np.array([rotate(img, angle) for angle in angles])\n",
    "    return ps\n"
   ],
   "outputs": []
  },
  {
   "cell_type": "code",
   "execution_count": 54,
   "id": "d7d9ad0a11f2449f",
   "metadata": {
    "ExecuteTime": {
     "end_time": "2024-09-03T02:26:15.686740Z",
     "start_time": "2024-09-03T02:26:14.663747Z"
    }
   },
   "source": [
    "# we generate a total number of 300 patches with a shape of (128, 128)\n",
    "num = 300\n",
    "ps = make_rot_data(N=num)\n",
    "print(ps.shape)\n",
    "\n",
    "# only show a few\n",
    "fig, axes = plt.subplots(1, 4, figsize=(7.2, 7.2))\n",
    "for i, ax in enumerate(axes.ravel()):\n",
    "    j = int(num//4*i)\n",
    "    ax.imshow(ps[j])\n",
    "    ax.set_xlabel('index:{}'.format(j))\n",
    "    ax.xaxis.set_ticklabels([])\n",
    "    ax.yaxis.set_ticklabels([])"
   ],
   "outputs": []
  },
  {
   "cell_type": "markdown",
   "id": "1286e5fe0b15ae05",
   "metadata": {},
   "source": [
    "## Step 4: extract Zernike features from your own data"
   ]
  },
  {
   "cell_type": "code",
   "execution_count": 55,
   "id": "cd1b599b95eb6c43",
   "metadata": {
    "ExecuteTime": {
     "end_time": "2024-09-03T02:26:19.546627Z",
     "start_time": "2024-09-03T02:26:19.504627Z"
    }
   },
   "source": [
    "# we have `zps` and our data is `ps`, follow the sckit-learn API, we use `fit_transform()`\n",
    "m = zps.fit_transform(ps)\n",
    "# m is a zmoments object\n",
    "print(m)\n",
    "# m.data is a numpy array\n",
    "print(m.data.shape)"
   ],
   "outputs": []
  },
  {
   "cell_type": "code",
   "execution_count": 56,
   "id": "b2d92d80c03c7fa7",
   "metadata": {
    "ExecuteTime": {
     "end_time": "2024-09-03T02:26:22.598275Z",
     "start_time": "2024-09-03T02:26:21.581300Z"
    }
   },
   "source": [
    "# visualize the full Zernike features, notice that they are different since rotation invariant is now off!\n",
    "fig, axes = plt.subplots(4, 1, figsize=(7.2, 7.2))\n",
    "for i, ax in enumerate(axes.ravel()):\n",
    "    j = int(num//4*i)\n",
    "    ax.plot(m.data[j], color='C{}'.format(i))\n",
    "    ax.set_xlabel('index:{}'.format(j))\n",
    "fig.tight_layout()"
   ],
   "outputs": []
  },
  {
   "cell_type": "code",
   "execution_count": 56,
   "id": "8a823e603244f2bd",
   "metadata": {
    "ExecuteTime": {
     "end_time": "2024-09-03T02:26:23.733270Z",
     "start_time": "2024-09-03T02:26:23.716252Z"
    }
   },
   "source": [],
   "outputs": []
  },
  {
   "cell_type": "code",
   "execution_count": 57,
   "id": "c8e61c90121df58b",
   "metadata": {
    "ExecuteTime": {
     "end_time": "2024-09-03T02:26:26.057720Z",
     "start_time": "2024-09-03T02:26:25.172742Z"
    }
   },
   "source": [
    "# X is now rotational invariant\n",
    "X = np.abs(m.to_complex().data)\n",
    "\n",
    "# visualize the Zernike features, notice that they are the same since we are plotting the rotationally invariant part!\n",
    "fig, axes = plt.subplots(4, 1, figsize=(7.2, 7.2))\n",
    "for i, ax in enumerate(axes.ravel()):\n",
    "    j = int(num//4*i)\n",
    "    ax.plot(X[j], color='C{}'.format(i))\n",
    "    ax.set_xlabel('index:{}'.format(j))\n",
    "fig.tight_layout()"
   ],
   "outputs": []
  },
  {
   "cell_type": "code",
   "execution_count": null,
   "id": "354fab3b0e5d2ccb",
   "metadata": {},
   "source": [],
   "outputs": []
  }
 ],
 "metadata": {
  "kernelspec": {
   "display_name": "Python 3",
   "language": "python",
   "name": "python3"
  },
  "language_info": {
   "codemirror_mode": {
    "name": "ipython",
    "version": 2
   },
   "file_extension": ".py",
   "mimetype": "text/x-python",
   "name": "python",
   "nbconvert_exporter": "python",
   "pygments_lexer": "ipython2",
   "version": "2.7.6"
  }
 },
 "nbformat": 4,
 "nbformat_minor": 5
}
