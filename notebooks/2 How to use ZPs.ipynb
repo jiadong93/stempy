{
 "cells": [
  {
   "metadata": {},
   "cell_type": "markdown",
   "source": "# Notebook",
   "id": "231044e7b0b365d4"
  },
  {
   "metadata": {
    "ExecuteTime": {
     "end_time": "2024-05-15T14:44:15.475236Z",
     "start_time": "2024-05-15T14:44:07.823513Z"
    }
   },
   "cell_type": "code",
   "source": [
    "#%matplotlib qt\n",
    "%matplotlib inline\n",
    "import numpy as np\n",
    "import matplotlib.pyplot as plt\n",
    "\n",
    "from mtflearn import ZPs"
   ],
   "id": "8ad2ab624d5d3419",
   "execution_count": 1,
   "outputs": []
  },
  {
   "metadata": {
    "ExecuteTime": {
     "end_time": "2024-05-15T14:44:31.626628Z",
     "start_time": "2024-05-15T14:44:31.617626Z"
    }
   },
   "cell_type": "code",
   "source": "",
   "id": "ba42c84a824b9f40",
   "execution_count": 2,
   "outputs": []
  },
  {
   "metadata": {
    "ExecuteTime": {
     "end_time": "2024-05-15T14:44:32.663051Z",
     "start_time": "2024-05-15T14:44:32.653052Z"
    }
   },
   "cell_type": "code",
   "source": "",
   "id": "85aa6a2a64b8f0fc",
   "execution_count": 2,
   "outputs": []
  },
  {
   "metadata": {
    "ExecuteTime": {
     "end_time": "2024-05-15T14:44:33.744404Z",
     "start_time": "2024-05-15T14:44:33.685406Z"
    }
   },
   "cell_type": "code",
   "source": [
    "num_patches = 300\n",
    "size = 45\n",
    "shape = (num_patches, size, size)\n",
    "# ps is a 3D numpy array\n",
    "ps = np.random.random(shape)\n",
    "\n",
    "zps = ZPs(n_max=10, size=size)\n",
    "X = zps.fit_transform(ps)"
   ],
   "id": "cd1b599b95eb6c43",
   "execution_count": 3,
   "outputs": []
  },
  {
   "metadata": {
    "ExecuteTime": {
     "end_time": "2024-05-15T14:44:34.220375Z",
     "start_time": "2024-05-15T14:44:33.944401Z"
    }
   },
   "cell_type": "code",
   "source": [
    "fig, ax = plt.subplots(1, 1, figsize=(7.2, 3))\n",
    "ax.plot(X[0])"
   ],
   "id": "8a823e603244f2bd",
   "execution_count": 4,
   "outputs": []
  },
  {
   "metadata": {},
   "cell_type": "code",
   "execution_count": null,
   "source": "",
   "id": "c8e61c90121df58b",
   "outputs": []
  }
 ],
 "metadata": {
  "kernelspec": {
   "display_name": "Python 3",
   "language": "python",
   "name": "python3"
  },
  "language_info": {
   "codemirror_mode": {
    "name": "ipython",
    "version": 2
   },
   "file_extension": ".py",
   "mimetype": "text/x-python",
   "name": "python",
   "nbconvert_exporter": "python",
   "pygments_lexer": "ipython2",
   "version": "2.7.6"
  }
 },
 "nbformat": 4,
 "nbformat_minor": 5
}
