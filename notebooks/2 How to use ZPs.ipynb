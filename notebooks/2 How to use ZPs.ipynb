{
 "cells": [
  {
   "metadata": {},
   "cell_type": "markdown",
   "source": "# Notebook",
   "id": "231044e7b0b365d4"
  },
  {
   "metadata": {
    "ExecuteTime": {
     "end_time": "2024-05-15T14:08:54.070668Z",
     "start_time": "2024-05-15T14:08:49.793783Z"
    }
   },
   "cell_type": "code",
   "source": [
    "#%matplotlib qt\n",
    "%matplotlib inline\n",
    "import numpy as np\n",
    "import matplotlib.pyplot as plt\n",
    "\n",
    "from mtflearn import ZPs"
   ],
   "id": "8ad2ab624d5d3419",
   "execution_count": 2,
   "outputs": []
  },
  {
   "metadata": {
    "ExecuteTime": {
     "end_time": "2024-05-15T14:10:36.656685Z",
     "start_time": "2024-05-15T14:10:36.599686Z"
    }
   },
   "cell_type": "code",
   "source": [
    "num_patches = 300\n",
    "size = 45\n",
    "shape = (num_patches, size, size)\n",
    "# ps is a 3D numpy array\n",
    "ps = np.random.random(shape)\n",
    "\n",
    "zps = ZPs(n_max=10, size=size)\n",
    "X = zps.fit_transform(ps)"
   ],
   "id": "cd1b599b95eb6c43",
   "execution_count": 6,
   "outputs": []
  },
  {
   "metadata": {
    "ExecuteTime": {
     "end_time": "2024-05-15T14:29:57.031457Z",
     "start_time": "2024-05-15T14:29:57.020437Z"
    }
   },
   "cell_type": "code",
   "source": "",
   "id": "b2d92d80c03c7fa7",
   "execution_count": 12,
   "outputs": []
  },
  {
   "metadata": {
    "ExecuteTime": {
     "end_time": "2024-05-15T14:10:47.412547Z",
     "start_time": "2024-05-15T14:10:47.200551Z"
    }
   },
   "cell_type": "code",
   "source": [
    "fig, ax = plt.subplots(1, 1, figsize=(7.2, 3))\n",
    "ax.plot(X[0])"
   ],
   "id": "8a823e603244f2bd",
   "execution_count": 9,
   "outputs": []
  },
  {
   "metadata": {},
   "cell_type": "code",
   "execution_count": null,
   "source": [
    "img_shape = (512, 512)\n",
    "img = np.random.random(img_shape)\n",
    "\n",
    "zps_size = 45\n",
    "zps = ZPs(n_max=10, size=zps_size)\n",
    "X = zps.fit_transform(img)"
   ],
   "id": "c8e61c90121df58b",
   "outputs": []
  }
 ],
 "metadata": {
  "kernelspec": {
   "display_name": "Python 3",
   "language": "python",
   "name": "python3"
  },
  "language_info": {
   "codemirror_mode": {
    "name": "ipython",
    "version": 2
   },
   "file_extension": ".py",
   "mimetype": "text/x-python",
   "name": "python",
   "nbconvert_exporter": "python",
   "pygments_lexer": "ipython2",
   "version": "2.7.6"
  }
 },
 "nbformat": 4,
 "nbformat_minor": 5
}
