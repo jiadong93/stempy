{
 "cells": [
  {
   "metadata": {},
   "cell_type": "markdown",
   "source": "",
   "id": "24e3e368de540c02"
  },
  {
   "metadata": {},
   "cell_type": "markdown",
   "source": [
    "# Introduction to Zernike Polynomials\n",
    "\n",
    "Zernike polynomials are a set of orthogonal polynomials that arise in the expansion of wavefront functions in optical systems. They are particularly useful in the field of optics and are widely used to describe wavefront aberrations. Named after the Dutch physicist Frits Zernike, these polynomials form a complete orthogonal set over the unit disk.\n",
    "\n",
    "## Definition\n",
    "\n",
    "A Zernike polynomial $Z_n^m(\\rho, \\theta)$ is defined in polar coordinates $(\\rho, \\theta)$, where $\\rho$ is the radial coordinate (ranging from 0 to 1) and $\\theta$ is the azimuthal angle (ranging from 0 to $2\\pi$). The general form of a Zernike polynomial is given by:\n",
    "\n",
    "$$\n",
    "Z_n^m(\\rho, \\theta) = R_n^m(\\rho) e^{im\\theta}\n",
    "$$\n",
    "\n",
    "where $n$ and $m$ are integers with $n \\geq 0$ and $|m| \\leq n$, and $R_n^m(\\rho)$ is the radial polynomial defined as:\n",
    "\n",
    "$$\n",
    "R_n^m(\\rho) = \\sum_{k=0}^{(n-|m|)/2} \\frac{(-1)^k (n-k)!}{k! \\left(\\frac{n+|m|}{2} - k\\right)! \\left(\\frac{n-|m|}{2} - k\\right)!} \\rho^{n-2k}\n",
    "$$\n",
    "\n",
    "## Properties\n",
    "\n",
    "- **Orthogonality:** Zernike polynomials are orthogonal over the unit disk. This means that the integral of the product of two different Zernike polynomials over the unit disk is zero.\n",
    "  \n",
    "  $$\n",
    "  \\int_0^{2\\pi} \\int_0^1 Z_n^m(\\rho, \\theta) Z_{n'}^{m'}(\\rho, \\theta) \\rho \\, d\\rho \\, d\\theta = \\delta_{nn'} \\delta_{mm'}\n",
    "  $$\n",
    "\n",
    "- **Completeness:** Any continuous function over the unit disk can be expanded as a series of Zernike polynomials.\n",
    "\n",
    "- **Normalization:** The Zernike polynomials can be normalized so that their integral over the unit disk equals one.\n",
    "\n",
    "## Applications\n",
    "\n",
    "Zernike polynomials are extensively used in optical system design and analysis, particularly in wavefront sensing and correction. They help in decomposing wavefront errors into a series of orthogonal components, making it easier to understand and correct aberrations in optical systems.\n"
   ],
   "id": "ebb44d15e7a1edd3"
  },
  {
   "metadata": {},
   "cell_type": "markdown",
   "source": "## Visualization of ZPs",
   "id": "f1f3fea7df227bd0"
  },
  {
   "metadata": {
    "ExecuteTime": {
     "end_time": "2024-05-15T14:04:49.541630Z",
     "start_time": "2024-05-15T14:04:45.820697Z"
    }
   },
   "cell_type": "code",
   "source": [
    "#%matplotlib qt\n",
    "%matplotlib inline\n",
    "import numpy as np\n",
    "import matplotlib.pyplot as plt\n",
    "\n",
    "from stemplot import h_axes\n",
    "from mtflearn import ZPs"
   ],
   "id": "b66fa53ea134594a",
   "execution_count": 1,
   "outputs": []
  },
  {
   "metadata": {},
   "cell_type": "code",
   "execution_count": null,
   "source": "",
   "id": "439a4864d564edec",
   "outputs": []
  },
  {
   "metadata": {
    "ExecuteTime": {
     "end_time": "2024-05-15T08:50:30.688779Z",
     "start_time": "2024-05-15T08:50:30.658780Z"
    }
   },
   "cell_type": "code",
   "source": [
    "import matplotlib.patches as patches\n",
    "\n",
    "def generate_axes(axes, fig):\n",
    "    n = len(axes)-1\n",
    "    l = []\n",
    "    for i in range(n):\n",
    "        ax1, ax2 = axes[i], axes[i+1]\n",
    "        box1, box2 = ax1.get_position(), ax2.get_position()\n",
    "        w, h = box1.width, box1.height\n",
    "        x1, y1 = box1.x0, box1.y0\n",
    "        x2, y2 = box2.x0, box2.y0\n",
    "        d = 0.13\n",
    "        x, y = (x1+x2)/2, (y1+y2)/2 + d\n",
    "        ax = fig.add_axes([x, y, w, h])\n",
    "        l.append(ax)\n",
    "    return l\n",
    "\n",
    "def plot_img(ax, img, ss, **kwargs):\n",
    "    im = ax.imshow(img, **kwargs)\n",
    "    x = img.shape[0]/2\n",
    "    patch = patches.Circle((x, x), radius=x-3, transform=ax.transData)\n",
    "    im.set_clip_path(patch)\n",
    "    ax.axis('off')\n",
    "    ax.text(465, 480, ss, fontsize=14)"
   ],
   "id": "864fff8992b7f220",
   "execution_count": 23,
   "outputs": []
  },
  {
   "metadata": {
    "ExecuteTime": {
     "end_time": "2024-05-15T08:50:36.258653Z",
     "start_time": "2024-05-15T08:50:30.865775Z"
    }
   },
   "cell_type": "code",
   "source": [
    "fig = plt.figure(figsize=(7.2, 7.2))\n",
    "\n",
    "axes1 = h_axes(fig, n=6, bottom=0.1, left=1/15, right=1/30, wspace=0.25, ratios=1)\n",
    "axes2 = generate_axes(axes1, fig)\n",
    "axes3 = generate_axes(axes2, fig)\n",
    "axes4 = generate_axes(axes3, fig)\n",
    "axes5 = generate_axes(axes4, fig)\n",
    "axes6 = generate_axes(axes5, fig)\n",
    "\n",
    "axes = axes6 + axes5 + axes4 + axes3 + axes2 + list(axes1)\n",
    "\n",
    "\n",
    "size = 512\n",
    "zps = ZPs(n_max=10, size=size).polynomials\n",
    "\n",
    "vmax = zps.max()\n",
    "vmin = zps.min()\n",
    "\n",
    "s = []\n",
    "for i in np.arange(21):\n",
    "    n = int(np.ceil((-3 + np.sqrt(9+8*i))/2))\n",
    "    m = int(2*i-n*(n+2))\n",
    "    string = r'$Z_'+r'{'+str(n)+r'}'+r'^{'+str(m)+r'}$'\n",
    "    s.append(string)\n",
    "\n",
    "for i in range(21):\n",
    "    plot_img(axes[i], zps[i], ss=s[i], vmax=vmax, vmin=vmin)\n",
    "\n",
    "ax = fig.add_axes([0, 0, 1, 1], facecolor=[0, 0, 0, 0])\n",
    "ax.axis('off')\n",
    "\n",
    "ax.text(x=0.0611, y=0.8217, s=r'$Z_{n}^{m}$', ha='left', va='top', fontsize=20)\n",
    "ax.text(x=0.12, y=0.8231, s='$-azimuthal\\ index$', ha='left', va='top')\n",
    "ax.text(x=0.12, y=0.7953, s='$-radial\\ index$', ha='left', va='top')\n",
    "\n",
    "#Cursor(ax)"
   ],
   "id": "189a747a890804e1",
   "execution_count": 24,
   "outputs": []
  }
 ],
 "metadata": {
  "kernelspec": {
   "display_name": "Python 3",
   "language": "python",
   "name": "python3"
  },
  "language_info": {
   "codemirror_mode": {
    "name": "ipython",
    "version": 2
   },
   "file_extension": ".py",
   "mimetype": "text/x-python",
   "name": "python",
   "nbconvert_exporter": "python",
   "pygments_lexer": "ipython2",
   "version": "2.7.6"
  }
 },
 "nbformat": 4,
 "nbformat_minor": 5
}
