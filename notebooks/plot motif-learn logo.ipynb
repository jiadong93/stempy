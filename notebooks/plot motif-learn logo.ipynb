{
 "cells": [
  {
   "metadata": {},
   "cell_type": "markdown",
   "source": "# Use matplotlib to plot the logo of motif-learn",
   "id": "dd8cf7903ec57309"
  },
  {
   "metadata": {
    "ExecuteTime": {
     "end_time": "2024-05-22T06:05:16.536690Z",
     "start_time": "2024-05-22T06:05:13.503740Z"
    }
   },
   "cell_type": "code",
   "source": [
    "%matplotlib qt\n",
    "import numpy as np\n",
    "import matplotlib.pyplot as plt"
   ],
   "id": "992dfde6e299e87",
   "outputs": [],
   "execution_count": 1
  },
  {
   "metadata": {
    "ExecuteTime": {
     "end_time": "2024-05-22T14:47:28.756205Z",
     "start_time": "2024-05-22T14:47:28.610221Z"
    }
   },
   "cell_type": "code",
   "source": [
    "from sklearn.neighbors import NearestNeighbors\n",
    "from matplotlib.collections import LineCollection\n",
    "\n",
    "def scaled_lw(ax, base_lw, base_size):\n",
    "    # Example data\n",
    "    x = np.linspace(0, 10, 100)\n",
    "    y = np.sin(x)\n",
    "\n",
    "    fig = ax.figure\n",
    "    # Draw a temporary plot to get the axis size\n",
    "    temp_line, = ax.plot(x, y, lw=base_lw, alpha=0)\n",
    "    fig.canvas.draw()\n",
    "\n",
    "    # Get the bounding box of the axis\n",
    "    bbox = ax.get_window_extent().transformed(fig.dpi_scale_trans.inverted())\n",
    "    width, height = bbox.width, bbox.height\n",
    "\n",
    "    # Remove the temporary plot\n",
    "    temp_line.remove()\n",
    "\n",
    "    # Scale the line width based on the axis size\n",
    "    scaling_factor = (width + height) / 2 / base_size\n",
    "    scaled_lw = base_lw * scaling_factor\n",
    "\n",
    "    return scaled_lw\n",
    "\n",
    "\n",
    "def plot_logo(ax, l=0.38, val=1):\n",
    "    p1 = (0, 0)\n",
    "    p2 = (-np.sqrt(3) * l, 0)\n",
    "    p3 = (np.sqrt(3) * l, 0)\n",
    "    p4 = (-np.sqrt(3) * l / 2, 1.5*l)\n",
    "    p5 = (np.sqrt(3) * l / 2, 1.5*l)\n",
    "    p6 = (-np.sqrt(3) * l / 2, -1.5 * l)\n",
    "    p7 = (np.sqrt(3) * l / 2, -1.5 * l)\n",
    "    pts1 = np.array([p1, p2, p3, p4, p5, p6, p7])\n",
    "\n",
    "    q1 = (0, -l)\n",
    "    q2 = (-np.sqrt(3) * l / 2, 0.5*l)\n",
    "    q3 = (np.sqrt(3) * l / 2, 0.5*l)\n",
    "    q4 = (-np.sqrt(3) * l, -l)\n",
    "    q5 = (np.sqrt(3) * l, -l)\n",
    "    q6 = (0, 2 * l)\n",
    "    pts2 = np.array([q1, q2, q3, q4, q5, q6])\n",
    "    \n",
    "    pts = np.vstack([pts1, pts2])\n",
    "\n",
    "    nbrs = NearestNeighbors(radius=l*1.01, algorithm='ball_tree').fit(pts2)\n",
    "    d, inds = nbrs.radius_neighbors(pts1, return_distance=True)\n",
    "    segs = [[pts1[i], pts2[ind]] for i, row in enumerate(inds) for ind in row]\n",
    "\n",
    "    # this is important\n",
    "    lw = scaled_lw(ax, base_lw=3, base_size=2.8)\n",
    "    line_segments = LineCollection(segs, color='#2d3742', lw=lw)\n",
    "    ax.add_collection(line_segments)\n",
    "    \n",
    "    #ax.scatter(pts1[:, 0], pts1[:, 1], color='#4b73c9', s=s1, zorder=5)\n",
    "    #ax.scatter(pts2[:, 0], pts2[:, 1], color='#4ba6c9', s=s2, zorder=5)\n",
    "    \n",
    "    for (x, y) in pts1:\n",
    "        c = plt.Circle((x, y), 0.090, color='#4b73c9', zorder=5)\n",
    "        ax.add_patch(c)\n",
    "\n",
    "    for (x, y) in pts2:\n",
    "        c = plt.Circle((x, y), 0.090*0.6, color='#4ba6c9', zorder=5)\n",
    "        ax.add_patch(c)\n",
    "\n",
    "    \n",
    "    c1 = plt.Circle((0, 0), 0.95, facecolor='none', edgecolor='#2d3742', lw=lw*0.6)\n",
    "    c2 = plt.Circle((0, 0), 0.91, facecolor='#f7f7f7', edgecolor='none')\n",
    "    ax.add_patch(c1)\n",
    "    ax.add_patch(c2)\n",
    "\n",
    "    ax.set_xlim(-val, val)\n",
    "    ax.set_ylim(-val, val)\n",
    "    \n",
    "    ax.axis('off') \n"
   ],
   "id": "e790dd26a2279a5d",
   "outputs": [],
   "execution_count": 32
  },
  {
   "metadata": {
    "ExecuteTime": {
     "end_time": "2024-05-22T11:15:09.006105Z",
     "start_time": "2024-05-22T11:15:08.766436Z"
    }
   },
   "cell_type": "code",
   "source": [
    "size = 2.8\n",
    "fig = plt.figure(figsize=(size, size))\n",
    "ax = fig.add_axes([0, 0, 1, 1])\n",
    "\n",
    "plot_logo(ax, l=0.38)"
   ],
   "id": "afc1f7514a9df0a4",
   "outputs": [],
   "execution_count": 22
  },
  {
   "metadata": {
    "ExecuteTime": {
     "end_time": "2024-05-22T11:15:10.671412Z",
     "start_time": "2024-05-22T11:15:10.658414Z"
    }
   },
   "cell_type": "code",
   "source": "",
   "id": "66d13696deb8e10b",
   "outputs": [],
   "execution_count": 22
  },
  {
   "metadata": {
    "ExecuteTime": {
     "end_time": "2024-05-22T11:15:10.892388Z",
     "start_time": "2024-05-22T11:15:10.872388Z"
    }
   },
   "cell_type": "code",
   "source": [
    "from matplotlib import font_manager\n",
    "\n",
    "def plot_text(ax, font=None, fontsize=35):\n",
    "    \n",
    "    # Ensure that the Roboto font is available\n",
    "    # Update with the correct path to your Roboto font files\n",
    "    if font == 'roboto':\n",
    "        font_dirs = ['/data/fonts/Roboto']\n",
    "        font_family = 'Roboto'\n",
    "    else:\n",
    "        font_dirs = ['/data/fonts/Berlin Sans FB']\n",
    "        font_family = 'Berlin Sans FB'\n",
    "    \n",
    "    font_files = font_manager.findSystemFonts(fontpaths=font_dirs)\n",
    "    \n",
    "    # Add the Roboto font to Matplotlib's font manager\n",
    "    for font_file in font_files:\n",
    "        font_manager.fontManager.addfont(font_file)\n",
    "\n",
    "    # Use the Roboto font for specific text elements\n",
    "    font_props = {'family': font_family, 'size': fontsize, 'weight': 'regular'}\n",
    "\n",
    "    ax.text(0.5, 0.5, 'motif-learn', va='center', ha='center', fontproperties=font_props, color='#2d3742')\n",
    "    ax.axis('off')"
   ],
   "id": "f469263e102e8a68",
   "outputs": [],
   "execution_count": 23
  },
  {
   "metadata": {
    "ExecuteTime": {
     "end_time": "2024-05-22T11:15:11.570394Z",
     "start_time": "2024-05-22T11:15:11.488374Z"
    }
   },
   "cell_type": "code",
   "source": [
    "size = 2.8\n",
    "fig = plt.figure(figsize=(size, size))\n",
    "ax = fig.add_axes([0, 0, 1, 1])\n",
    "plot_text(ax, font='roboto')"
   ],
   "id": "2c1c0e1c77400af9",
   "outputs": [],
   "execution_count": 24
  },
  {
   "metadata": {
    "ExecuteTime": {
     "end_time": "2024-05-22T11:15:13.075337Z",
     "start_time": "2024-05-22T11:15:13.052340Z"
    }
   },
   "cell_type": "code",
   "source": "#fig.savefig('font_roboto_motif_learn.png', dpi=1000, transparent=True) ",
   "id": "c43b73d92aedc060",
   "outputs": [],
   "execution_count": 25
  },
  {
   "metadata": {},
   "cell_type": "markdown",
   "source": "## plot the logo horizontally",
   "id": "9c1c63bad03040c2"
  },
  {
   "metadata": {
    "ExecuteTime": {
     "end_time": "2024-05-22T11:15:20.462168Z",
     "start_time": "2024-05-22T11:15:19.729187Z"
    }
   },
   "cell_type": "code",
   "source": [
    "def shift_ax(ax, left=0, right=0, upper=0, lower=0):\n",
    "    bbox = ax.get_position()\n",
    "    x0, y0, w, h = bbox.x0, bbox.y0, bbox.width, bbox.height\n",
    "    x = x0 + right - left\n",
    "    y = y0 + upper - lower\n",
    "    ax.set_position([x, y, w, h])\n",
    "\n",
    "fig_width = 7.2\n",
    "fig_height = 2.\n",
    "fig = plt.figure(figsize=(fig_width, fig_height))\n",
    "\n",
    "ax1 = fig.add_axes([0, 0, fig_height/fig_width, 1])\n",
    "ax2 = fig.add_axes([fig_height/fig_width, 0, 1-fig_height/fig_width, 1])\n",
    "shift_ax(ax1, right=0.02)\n",
    "plot_logo(ax1, l=0.41)\n",
    "plot_text(ax2, fontsize=70,)"
   ],
   "id": "99437805d1b46064",
   "outputs": [],
   "execution_count": 27
  },
  {
   "metadata": {
    "ExecuteTime": {
     "end_time": "2024-05-22T11:16:09.563045Z",
     "start_time": "2024-05-22T11:16:09.545045Z"
    }
   },
   "cell_type": "code",
   "source": "#fig.savefig('motif-learn logo.png', dpi=1000, transparent=False) ",
   "id": "b769b0eec44361bb",
   "outputs": [],
   "execution_count": 29
  },
  {
   "metadata": {},
   "cell_type": "markdown",
   "source": "## plot the logo vertically",
   "id": "573d9205d3d18005"
  },
  {
   "metadata": {
    "ExecuteTime": {
     "end_time": "2024-05-22T14:50:27.560686Z",
     "start_time": "2024-05-22T14:50:27.293262Z"
    }
   },
   "cell_type": "code",
   "source": [
    "fig_width = 2\n",
    "fig_height = 2.5\n",
    "fig = plt.figure(figsize=(fig_width, fig_height))\n",
    "\n",
    "ax1 = fig.add_axes([0, 1-fig_width/fig_height, 1, fig_width/fig_height])\n",
    "ax2 = fig.add_axes([0, 0, 1, 1-fig_width/fig_height])\n",
    "plot_logo(ax1, l=0.41, val=1.15)\n",
    "plot_text(ax2, fontsize=28,)"
   ],
   "id": "ab560efca5859467",
   "outputs": [],
   "execution_count": 35
  },
  {
   "metadata": {
    "ExecuteTime": {
     "end_time": "2024-05-22T14:50:31.950037Z",
     "start_time": "2024-05-22T14:50:31.447047Z"
    }
   },
   "cell_type": "code",
   "source": "fig.savefig('motif-learn-logo-vertical.png', dpi=1000, transparent=False) ",
   "id": "5644ea78aaf45cc9",
   "outputs": [],
   "execution_count": 36
  },
  {
   "metadata": {},
   "cell_type": "code",
   "outputs": [],
   "execution_count": null,
   "source": "",
   "id": "679a6840c0c3d918"
  }
 ],
 "metadata": {
  "kernelspec": {
   "display_name": "Python 3",
   "language": "python",
   "name": "python3"
  },
  "language_info": {
   "codemirror_mode": {
    "name": "ipython",
    "version": 2
   },
   "file_extension": ".py",
   "mimetype": "text/x-python",
   "name": "python",
   "nbconvert_exporter": "python",
   "pygments_lexer": "ipython2",
   "version": "2.7.6"
  }
 },
 "nbformat": 4,
 "nbformat_minor": 5
}
